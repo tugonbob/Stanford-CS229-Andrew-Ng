{
 "cells": [
  {
   "cell_type": "code",
   "execution_count": 3,
   "metadata": {},
   "outputs": [],
   "source": [
    "%%capture\n",
    "%pip install numpy\n",
    "%pip install matplotlib\n",
    "%pip install pandas\n",
    "import numpy as np\n",
    "import matplotlib.pyplot as plt\n",
    "import pandas as pd"
   ]
  },
  {
   "cell_type": "code",
   "execution_count": 4,
   "metadata": {},
   "outputs": [],
   "source": [
    "temp_data = np.genfromtxt('../../_collectedData.tsv', delimiter='\\t', dtype='float')\n",
    "temp_data = np.delete(temp_data, 0, 0)\n",
    "temp_stringData = np.genfromtxt('../../_collectedData.tsv', delimiter='\\t', dtype=str)\n",
    "temp_stringData = np.delete(temp_stringData, 0, 0)\n",
    "\n",
    "address_i = 0\n",
    "bathrooms_i = 1\n",
    "bedrooms_i = 2\n",
    "daysOnMarket_i = 6\n",
    "lotSize_i = 13\n",
    "price_i = 14\n",
    "propertyType_i = 15\n",
    "squareFootage_i = 18\n",
    "status_i = 20\n",
    "yearBuilt_i = 21\n",
    "\n",
    "data = []\n",
    "stringData = []\n",
    "\n",
    "for d, str_d in zip(temp_data, temp_stringData):\n",
    "    if d[price_i] > 0 and d[price_i] < 1_000_000 and d[lotSize_i] > 0 and d[lotSize_i] < 20000 and d[squareFootage_i] > 0 and d[squareFootage_i] < 3000 and str_d[propertyType_i] == \"Single Family\" and str_d[status_i] == 'Active':\n",
    "        data.append(d)\n",
    "        stringData.append(str_d)\n",
    "data = np.array(data)"
   ]
  },
  {
   "cell_type": "code",
   "execution_count": null,
   "metadata": {},
   "outputs": [],
   "source": [
    "plt.title(\"Sqft vs Price\")\n",
    "plt.scatter(data[:, squareFootage_i], data[:, price_i], s=1)\n",
    "plt.show()\n",
    "plt.title(\"LotSize vs Price\")\n",
    "plt.scatter(data[:, lotSize_i], data[:, price_i], s=1)\n",
    "plt.show()\n",
    "print(\"Number of data points included:\", len(data))"
   ]
  }
 ],
 "metadata": {
  "kernelspec": {
   "display_name": "Python 3.8.9 64-bit",
   "language": "python",
   "name": "python3"
  },
  "language_info": {
   "codemirror_mode": {
    "name": "ipython",
    "version": 3
   },
   "file_extension": ".py",
   "mimetype": "text/x-python",
   "name": "python",
   "nbconvert_exporter": "python",
   "pygments_lexer": "ipython3",
   "version": "3.8.9"
  },
  "orig_nbformat": 4,
  "vscode": {
   "interpreter": {
    "hash": "31f2aee4e71d21fbe5cf8b01ff0e069b9275f58929596ceb00d14d90e3e16cd6"
   }
  }
 },
 "nbformat": 4,
 "nbformat_minor": 2
}
